{
 "cells": [
  {
   "cell_type": "code",
   "execution_count": 1,
   "metadata": {},
   "outputs": [],
   "source": [
    "import numpy as np"
   ]
  },
  {
   "cell_type": "code",
   "execution_count": 7,
   "metadata": {},
   "outputs": [],
   "source": [
    "def mc_std(N_POINTS = 1000000):\n",
    "    \n",
    "    points = np.random.normal(0.0, 1.0, N_POINTS)\n",
    "    m = np.mean(points > 3.0)\n",
    "    v = np.var(points > 3.0)\n",
    "    \n",
    "    return m,v"
   ]
  },
  {
   "cell_type": "code",
   "execution_count": 9,
   "metadata": {},
   "outputs": [
    {
     "data": {
      "text/plain": [
       "(0.001359, 0.0013571531190000002)"
      ]
     },
     "execution_count": 9,
     "metadata": {},
     "output_type": "execute_result"
    }
   ],
   "source": [
    "mc_std(int(1e6))"
   ]
  },
  {
   "cell_type": "code",
   "execution_count": 14,
   "metadata": {},
   "outputs": [
    {
     "name": "stdout",
     "output_type": "stream",
     "text": [
      "0.0013504499999999998\n",
      "1.332897975e-07\n"
     ]
    }
   ],
   "source": [
    "L = []\n",
    "for i in range(10000):\n",
    "    m,v = mc_std(N_POINTS = 10000)\n",
    "    L.append(m)\n",
    "\n",
    "print(np.mean(L))\n",
    "print(np.var(L))"
   ]
  },
  {
   "cell_type": "code",
   "execution_count": 18,
   "metadata": {},
   "outputs": [],
   "source": [
    "def mc_pref(N_POINTS = 1000000):\n",
    "    points = np.random.normal(0.0, 1.0, N_POINTS)\n",
    "    arr = np.exp(-4.5 - 3*points) * (points > 0)\n",
    "    m = np.mean(arr)\n",
    "    v = np.var(arr)\n",
    "    return m, v\n"
   ]
  },
  {
   "cell_type": "code",
   "execution_count": 23,
   "metadata": {},
   "outputs": [
    {
     "name": "stdout",
     "output_type": "stream",
     "text": [
      "0.0013497026561537719\n",
      "6.146977125599175e-10\n"
     ]
    }
   ],
   "source": [
    "L = []\n",
    "for i in range(10000):\n",
    "    m,v = mc_pref(N_POINTS = 10000)\n",
    "    L.append(m)\n",
    "\n",
    "print(np.mean(L))\n",
    "print(np.var(L))"
   ]
  },
  {
   "cell_type": "code",
   "execution_count": 21,
   "metadata": {},
   "outputs": [
    {
     "data": {
      "text/plain": [
       "(0.0013463292572624313, 6.158325325067731e-06)"
      ]
     },
     "execution_count": 21,
     "metadata": {},
     "output_type": "execute_result"
    }
   ],
   "source": [
    "mc_pref(N_POINTS = 1000000)"
   ]
  },
  {
   "cell_type": "code",
   "execution_count": 17,
   "metadata": {},
   "outputs": [
    {
     "name": "stdout",
     "output_type": "stream",
     "text": [
      "1e-08\n",
      "9.999999900000018e-09\n"
     ]
    }
   ],
   "source": [
    "N_POINTS = 100000000\n",
    "\n",
    "points_x = np.random.normal(0.0, 1.0, N_POINTS)\n",
    "points_y = np.random.normal(0.0, 1.0, N_POINTS)\n",
    "\n",
    "arr = (points_x > 3.0) * ((points_x + points_y) < -1.0)\n",
    "print(np.mean(arr))\n",
    "print(np.var(arr))"
   ]
  },
  {
   "cell_type": "code",
   "execution_count": 2,
   "metadata": {},
   "outputs": [],
   "source": [
    "def mc_pref_1(N_POINTS = 10000000):\n",
    "    points_x = np.random.normal(0.0, 1.0, N_POINTS)\n",
    "    points_y = np.random.normal(0.0, 1.0, N_POINTS)\n",
    "    \n",
    "    arr = np.exp(-4.5 - 3*points_x) * (points_x > 0) *\\\n",
    "            np.exp(-8 + 4*points_y) * (points_y + points_x < 0)\n",
    " \n",
    "    m = np.mean(arr)\n",
    "    v = np.var(arr)\n",
    "    \n",
    "    return m, v\n"
   ]
  },
  {
   "cell_type": "code",
   "execution_count": 3,
   "metadata": {},
   "outputs": [
    {
     "name": "stdout",
     "output_type": "stream",
     "text": [
      "1.878006845689989e-08\n",
      "1.912626287842527e-18\n"
     ]
    }
   ],
   "source": [
    "L = []\n",
    "for i in range(10000):\n",
    "    m,v = mc_pref_1(N_POINTS = 10000)\n",
    "    L.append(m)\n",
    "\n",
    "print(np.mean(L))\n",
    "print(np.var(L))"
   ]
  },
  {
   "cell_type": "code",
   "execution_count": 27,
   "metadata": {},
   "outputs": [
    {
     "data": {
      "text/plain": [
       "(1.8637002215486393e-08, 1.8482120207708617e-14)"
      ]
     },
     "execution_count": 27,
     "metadata": {},
     "output_type": "execute_result"
    }
   ],
   "source": [
    "mc_pref_1(N_POINTS = 10000000)"
   ]
  },
  {
   "cell_type": "code",
   "execution_count": null,
   "metadata": {},
   "outputs": [],
   "source": []
  }
 ],
 "metadata": {
  "kernelspec": {
   "display_name": "Python [conda env:condathree]",
   "language": "python",
   "name": "conda-env-condathree-py"
  },
  "language_info": {
   "codemirror_mode": {
    "name": "ipython",
    "version": 3
   },
   "file_extension": ".py",
   "mimetype": "text/x-python",
   "name": "python",
   "nbconvert_exporter": "python",
   "pygments_lexer": "ipython3",
   "version": "3.6.3"
  }
 },
 "nbformat": 4,
 "nbformat_minor": 2
}
